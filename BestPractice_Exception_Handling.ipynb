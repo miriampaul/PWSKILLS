{
  "nbformat": 4,
  "nbformat_minor": 0,
  "metadata": {
    "colab": {
      "provenance": []
    },
    "kernelspec": {
      "name": "python3",
      "display_name": "Python 3"
    },
    "language_info": {
      "name": "python"
    }
  },
  "cells": [
    {
      "cell_type": "code",
      "execution_count": 4,
      "metadata": {
        "colab": {
          "base_uri": "https://localhost:8080/"
        },
        "id": "aEkdeYUaV5Uf",
        "outputId": "1d8d5b32-edfa-482a-cffd-023be206d838"
      },
      "outputs": [
        {
          "output_type": "stream",
          "name": "stdout",
          "text": [
            "division by zero\n"
          ]
        }
      ],
      "source": [
        "#1ALWAYS USE A SPECIFIC EXCEPTION DO NOT USE A GENERIC EXCEPTION \n",
        "\n",
        "try:\n",
        "  10/0\n",
        "except Exception as e:\n",
        "  print(e)"
      ]
    },
    {
      "cell_type": "code",
      "source": [
        "try:\n",
        "  10/0\n",
        "except ZeroDivisionError as e:\n",
        "  print(e)"
      ],
      "metadata": {
        "colab": {
          "base_uri": "https://localhost:8080/"
        },
        "id": "JI604aOyWDHL",
        "outputId": "450db757-ab04-49e4-c5e8-e097101efc39"
      },
      "execution_count": 5,
      "outputs": [
        {
          "output_type": "stream",
          "name": "stdout",
          "text": [
            "division by zero\n"
          ]
        }
      ]
    },
    {
      "cell_type": "code",
      "source": [
        "#PRINT ALWAYS A VALID MESSAGE"
      ],
      "metadata": {
        "id": "WLQdryRCWHQY"
      },
      "execution_count": 6,
      "outputs": []
    },
    {
      "cell_type": "code",
      "source": [
        "try:\n",
        "  10/0\n",
        "except ZeroDivisionError as e:\n",
        "  print('This is my ZeroDivision error I am Handling',e)"
      ],
      "metadata": {
        "colab": {
          "base_uri": "https://localhost:8080/"
        },
        "id": "_Z9OvCoaWSyz",
        "outputId": "19078469-f880-45f2-df2b-19477bd0861c"
      },
      "execution_count": 7,
      "outputs": [
        {
          "output_type": "stream",
          "name": "stdout",
          "text": [
            "This is my ZeroDivision error I am Handling division by zero\n"
          ]
        }
      ]
    },
    {
      "cell_type": "code",
      "source": [
        "#ALWAYS TRY TO LOG"
      ],
      "metadata": {
        "id": "eav1ThMQWdsG"
      },
      "execution_count": 8,
      "outputs": []
    },
    {
      "cell_type": "code",
      "source": [
        "import logging"
      ],
      "metadata": {
        "id": "z_HqaasIWi-r"
      },
      "execution_count": 9,
      "outputs": []
    },
    {
      "cell_type": "code",
      "source": [
        "logging.basicConfig(filename='error.log',level=logging.ERROR)\n",
        "try:\n",
        "  10/0\n",
        "except ZeroDivisionError as e:\n",
        "  logging.error('This is my Zero Division Error I am Handling {}'.format(e))"
      ],
      "metadata": {
        "colab": {
          "base_uri": "https://localhost:8080/"
        },
        "id": "a3jbkr-iWjwr",
        "outputId": "9d7dc490-5d06-4b5c-f2e5-9f3d0da2f2d0"
      },
      "execution_count": 11,
      "outputs": [
        {
          "output_type": "stream",
          "name": "stderr",
          "text": [
            "ERROR:root:This is my Zero Division Error I am Handling division by zero\n"
          ]
        }
      ]
    },
    {
      "cell_type": "code",
      "source": [
        "#AVOID WRITING MULTIPL EXCEPTION HANDLING"
      ],
      "metadata": {
        "id": "pmvdcibaWsJx"
      },
      "execution_count": 12,
      "outputs": []
    },
    {
      "cell_type": "code",
      "source": [
        "try:\n",
        "  10/0\n",
        "except FileNotFoundError as e:\n",
        "  logging.Error('this is my file not dound{}'.format(e))\n",
        "except AttributeError as e:\n",
        "  logging.error('This is my attribute error {}'.format(e))\n",
        "except ZeroDivisionError as e:\n",
        "  logging.error('This is my Zero Division Error I am handling {}'.format(e))"
      ],
      "metadata": {
        "colab": {
          "base_uri": "https://localhost:8080/"
        },
        "id": "ycp20267XKoN",
        "outputId": "566e1559-85f0-4954-912b-c04bcd6c6bd3"
      },
      "execution_count": 13,
      "outputs": [
        {
          "output_type": "stream",
          "name": "stderr",
          "text": [
            "ERROR:root:This is my Zero Division Error I am handling division by zero\n"
          ]
        }
      ]
    },
    {
      "cell_type": "code",
      "source": [
        "#ALWAYS PREPARE A PROPER DOCUMENTATION."
      ],
      "metadata": {
        "id": "U8RHz2wWXmzD"
      },
      "execution_count": 14,
      "outputs": []
    },
    {
      "cell_type": "code",
      "source": [
        "#CLEANUP ALL THE RESOURCES"
      ],
      "metadata": {
        "id": "jPKugVUMXq2T"
      },
      "execution_count": 15,
      "outputs": []
    },
    {
      "cell_type": "code",
      "source": [
        "try:\n",
        "  with open('test.txt','w') as f:\n",
        "    f.write('This is my message to the file')\n",
        "except FileNotFoundError as e:\n",
        "  logging.error('This is my file not found {}'.format(e))\n",
        "finally:\n",
        "  f.close()"
      ],
      "metadata": {
        "id": "4c-yFKsUX1Zv"
      },
      "execution_count": 17,
      "outputs": []
    },
    {
      "cell_type": "code",
      "source": [],
      "metadata": {
        "id": "28HGhKWvYaDm"
      },
      "execution_count": null,
      "outputs": []
    }
  ]
}