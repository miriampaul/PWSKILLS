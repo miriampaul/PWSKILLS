{
  "nbformat": 4,
  "nbformat_minor": 0,
  "metadata": {
    "colab": {
      "provenance": []
    },
    "kernelspec": {
      "name": "python3",
      "display_name": "Python 3"
    },
    "language_info": {
      "name": "python"
    }
  },
  "cells": [
    {
      "cell_type": "code",
      "execution_count": 1,
      "metadata": {
        "id": "4iaU-Gh7t-_6"
      },
      "outputs": [],
      "source": [
        "#1. Characteristics of tuples: Tuples can store any kind of values, can be a integer or a string . but it cannot store a lists as lists are mutable. Tuples are immutable i.e\n",
        "#We cannot replace a value of a tuple like how we do in a list"
      ]
    },
    {
      "cell_type": "code",
      "source": [
        "#2 . 2 tuple methods are count and index. # Tuples have only 2 inbuilt function as it is immutable\n",
        "a=(1,2,3,4,'sdsds')\n",
        "a.count(4)"
      ],
      "metadata": {
        "colab": {
          "base_uri": "https://localhost:8080/"
        },
        "id": "abG7uLwLuck1",
        "outputId": "ba23ac32-f16d-4cb7-aa50-82c416e025dd"
      },
      "execution_count": 6,
      "outputs": [
        {
          "output_type": "execute_result",
          "data": {
            "text/plain": [
              "1"
            ]
          },
          "metadata": {},
          "execution_count": 6
        }
      ]
    },
    {
      "cell_type": "code",
      "source": [
        "a.index(2)"
      ],
      "metadata": {
        "colab": {
          "base_uri": "https://localhost:8080/"
        },
        "id": "7eGzvV8hume9",
        "outputId": "73bbf5d6-a7fe-4aa2-d6a1-7ed15a192973"
      },
      "execution_count": 7,
      "outputs": [
        {
          "output_type": "execute_result",
          "data": {
            "text/plain": [
              "1"
            ]
          },
          "metadata": {},
          "execution_count": 7
        }
      ]
    },
    {
      "cell_type": "code",
      "source": [
        "#3 Sets do not allow duplicate items\n",
        "List = [1, 1, 1, 2, 1, 3, 1, 4, 2, 1, 2, 2, 2, 3, 2, 4, 3, 1, 3, 2, 3, 3, 3, 4, 4, 1, 4, 2, 4, 3, 4, 4]"
      ],
      "metadata": {
        "id": "vVe8H2fuuxO6"
      },
      "execution_count": 8,
      "outputs": []
    },
    {
      "cell_type": "code",
      "source": [
        "set(List)"
      ],
      "metadata": {
        "colab": {
          "base_uri": "https://localhost:8080/"
        },
        "id": "asnacC5DvCq3",
        "outputId": "156be636-257e-4b61-8564-8f99e17324f7"
      },
      "execution_count": 9,
      "outputs": [
        {
          "output_type": "execute_result",
          "data": {
            "text/plain": [
              "{1, 2, 3, 4}"
            ]
          },
          "metadata": {},
          "execution_count": 9
        }
      ]
    },
    {
      "cell_type": "code",
      "source": [
        "#4 Difference between union and update method in set\n",
        "a={1,2,3434,5,54}\n",
        "b={'abc',123,'sdsd'}\n",
        "a1=a.union(b)\n"
      ],
      "metadata": {
        "id": "KPnUUgLsvGLc"
      },
      "execution_count": 18,
      "outputs": []
    },
    {
      "cell_type": "code",
      "source": [
        "b"
      ],
      "metadata": {
        "colab": {
          "base_uri": "https://localhost:8080/"
        },
        "id": "CK_QFicUwN-m",
        "outputId": "e07f5f6f-e20b-404e-b2be-0997e2ffa4b6"
      },
      "execution_count": 27,
      "outputs": [
        {
          "output_type": "execute_result",
          "data": {
            "text/plain": [
              "{123, 'abc', 'sdsd'}"
            ]
          },
          "metadata": {},
          "execution_count": 27
        }
      ]
    },
    {
      "cell_type": "code",
      "source": [
        "a"
      ],
      "metadata": {
        "colab": {
          "base_uri": "https://localhost:8080/"
        },
        "id": "0QwRAZcfwN89",
        "outputId": "ebf163cc-4518-4e60-85be-16074a9b0f2e"
      },
      "execution_count": 28,
      "outputs": [
        {
          "output_type": "execute_result",
          "data": {
            "text/plain": [
              "{1, 2, 5, 54, 3434}"
            ]
          },
          "metadata": {},
          "execution_count": 28
        }
      ]
    },
    {
      "cell_type": "code",
      "source": [
        "a1"
      ],
      "metadata": {
        "colab": {
          "base_uri": "https://localhost:8080/"
        },
        "id": "EqUA4I2mvO5D",
        "outputId": "e68e0b5f-0845-443a-9e4a-9f013b56228f"
      },
      "execution_count": 19,
      "outputs": [
        {
          "output_type": "execute_result",
          "data": {
            "text/plain": [
              "{1, 123, 2, 3434, 5, 54, 'abc', 'sdsd'}"
            ]
          },
          "metadata": {},
          "execution_count": 19
        }
      ]
    },
    {
      "cell_type": "code",
      "source": [
        "#Union method joins the 2 sets"
      ],
      "metadata": {
        "id": "H7IosTSyvfVq"
      },
      "execution_count": 29,
      "outputs": []
    },
    {
      "cell_type": "code",
      "source": [
        "c={1323,232,'asad'}\n",
        "d={'323','sdsd',23}\n",
        "e=c.update(d)"
      ],
      "metadata": {
        "id": "a3G4DHrcvlIm"
      },
      "execution_count": 30,
      "outputs": []
    },
    {
      "cell_type": "code",
      "source": [
        "e"
      ],
      "metadata": {
        "id": "I6-9RhMvv7uC"
      },
      "execution_count": 31,
      "outputs": []
    },
    {
      "cell_type": "code",
      "source": [
        "d"
      ],
      "metadata": {
        "colab": {
          "base_uri": "https://localhost:8080/"
        },
        "id": "FoO38E3ov-gQ",
        "outputId": "525d3faf-0312-4fca-f1de-05eedf9c703d"
      },
      "execution_count": 32,
      "outputs": [
        {
          "output_type": "execute_result",
          "data": {
            "text/plain": [
              "{23, '323', 'sdsd'}"
            ]
          },
          "metadata": {},
          "execution_count": 32
        }
      ]
    },
    {
      "cell_type": "code",
      "source": [
        "c"
      ],
      "metadata": {
        "colab": {
          "base_uri": "https://localhost:8080/"
        },
        "id": "i-07FuDXwAXW",
        "outputId": "0197afda-e4c7-439a-b476-72518858c4cb"
      },
      "execution_count": 33,
      "outputs": [
        {
          "output_type": "execute_result",
          "data": {
            "text/plain": [
              "{1323, 23, 232, '323', 'asad', 'sdsd'}"
            ]
          },
          "metadata": {},
          "execution_count": 33
        }
      ]
    },
    {
      "cell_type": "code",
      "source": [
        "# UPdate method updates d values inside the c variable"
      ],
      "metadata": {
        "id": "ZT7WrvxkwBhr"
      },
      "execution_count": 34,
      "outputs": []
    },
    {
      "cell_type": "code",
      "source": [
        "#5. Dictionary is a set containing key and value pairs. Example:\n",
        "a={12:'abc','ask':123}"
      ],
      "metadata": {
        "id": "CFK6C6aXwKzI"
      },
      "execution_count": 35,
      "outputs": []
    },
    {
      "cell_type": "code",
      "source": [
        "#Dictionary is ordered"
      ],
      "metadata": {
        "id": "vSwk1yk2wkQ9"
      },
      "execution_count": 37,
      "outputs": []
    },
    {
      "cell_type": "code",
      "source": [
        "#6. Yes we can create a nested dictionary: Example:\n",
        "a20={'class':['data science','DSA','MCA'],'name':{'miriam','Teja','purva'}}"
      ],
      "metadata": {
        "id": "3tTLXi3GwnHU"
      },
      "execution_count": 47,
      "outputs": []
    },
    {
      "cell_type": "code",
      "source": [
        "a20"
      ],
      "metadata": {
        "colab": {
          "base_uri": "https://localhost:8080/"
        },
        "id": "xH9Ob8FvxD7z",
        "outputId": "861e5e55-ab35-40ad-8134-ef32d2657459"
      },
      "execution_count": 48,
      "outputs": [
        {
          "output_type": "execute_result",
          "data": {
            "text/plain": [
              "{'class': ['data science', 'DSA', 'MCA'], 'name': {'Teja', 'miriam', 'purva'}}"
            ]
          },
          "metadata": {},
          "execution_count": 48
        }
      ]
    },
    {
      "cell_type": "code",
      "source": [
        "#7 set default method \n",
        "dict1 = {'language' : 'Python', 'course': ['Data Science Masters','Python','Machine Learning','Deep Learning']}"
      ],
      "metadata": {
        "id": "PTZzXlfkxFMQ"
      },
      "execution_count": 49,
      "outputs": []
    },
    {
      "cell_type": "code",
      "source": [
        "dict1.setdefault('course')"
      ],
      "metadata": {
        "colab": {
          "base_uri": "https://localhost:8080/"
        },
        "id": "1crm1rf3y2U7",
        "outputId": "103e6fc8-ec26-44be-9440-7b6b265d6657"
      },
      "execution_count": 50,
      "outputs": [
        {
          "output_type": "execute_result",
          "data": {
            "text/plain": [
              "['Data Science Masters', 'Python', 'Machine Learning', 'Deep Learning']"
            ]
          },
          "metadata": {},
          "execution_count": 50
        }
      ]
    },
    {
      "cell_type": "code",
      "source": [
        "#8. 2 View objects in dictionary #1. Key, 2. Values 3. items()"
      ],
      "metadata": {
        "id": "BWRGogJ6y6AL"
      },
      "execution_count": 58,
      "outputs": []
    },
    {
      "cell_type": "code",
      "source": [
        "dict2 = {'Sport': 'Cricket' , 'Teams': ['India', 'Australia', 'England', 'South Africa', 'Sri Lanka', 'New Zealand']}"
      ],
      "metadata": {
        "id": "fabC3WqjzktF"
      },
      "execution_count": 53,
      "outputs": []
    },
    {
      "cell_type": "code",
      "source": [
        "dict2.values()"
      ],
      "metadata": {
        "colab": {
          "base_uri": "https://localhost:8080/"
        },
        "id": "nM8jjqivzoI2",
        "outputId": "4d49f239-8c7d-47b2-9a32-f70b2e064484"
      },
      "execution_count": 54,
      "outputs": [
        {
          "output_type": "execute_result",
          "data": {
            "text/plain": [
              "dict_values(['Cricket', ['India', 'Australia', 'England', 'South Africa', 'Sri Lanka', 'New Zealand']])"
            ]
          },
          "metadata": {},
          "execution_count": 54
        }
      ]
    },
    {
      "cell_type": "code",
      "source": [
        "dict2.keys()"
      ],
      "metadata": {
        "colab": {
          "base_uri": "https://localhost:8080/"
        },
        "id": "J9pQ6mPEz7o6",
        "outputId": "1bda4edc-b7ad-4cd0-b1fb-4fea66413ce2"
      },
      "execution_count": 55,
      "outputs": [
        {
          "output_type": "execute_result",
          "data": {
            "text/plain": [
              "dict_keys(['Sport', 'Teams'])"
            ]
          },
          "metadata": {},
          "execution_count": 55
        }
      ]
    },
    {
      "cell_type": "code",
      "source": [
        "dict2['Sport']"
      ],
      "metadata": {
        "colab": {
          "base_uri": "https://localhost:8080/",
          "height": 35
        },
        "id": "ajPNWIS8z9Yf",
        "outputId": "21c19221-9d65-4ac8-d3c8-3ef18bf507c0"
      },
      "execution_count": 57,
      "outputs": [
        {
          "output_type": "execute_result",
          "data": {
            "text/plain": [
              "'Cricket'"
            ],
            "application/vnd.google.colaboratory.intrinsic+json": {
              "type": "string"
            }
          },
          "metadata": {},
          "execution_count": 57
        }
      ]
    },
    {
      "cell_type": "code",
      "source": [
        "dict2.items()"
      ],
      "metadata": {
        "colab": {
          "base_uri": "https://localhost:8080/"
        },
        "id": "SXBl8Ulh0A2A",
        "outputId": "5a2afc2a-039f-4a4e-be79-c42c2d84957f"
      },
      "execution_count": 59,
      "outputs": [
        {
          "output_type": "execute_result",
          "data": {
            "text/plain": [
              "dict_items([('Sport', 'Cricket'), ('Teams', ['India', 'Australia', 'England', 'South Africa', 'Sri Lanka', 'New Zealand'])])"
            ]
          },
          "metadata": {},
          "execution_count": 59
        }
      ]
    },
    {
      "cell_type": "code",
      "source": [],
      "metadata": {
        "id": "hI9L9Guu0Vvp"
      },
      "execution_count": null,
      "outputs": []
    }
  ]
}