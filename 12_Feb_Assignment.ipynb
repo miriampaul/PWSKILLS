{
  "nbformat": 4,
  "nbformat_minor": 0,
  "metadata": {
    "colab": {
      "provenance": []
    },
    "kernelspec": {
      "name": "python3",
      "display_name": "Python 3"
    },
    "language_info": {
      "name": "python"
    }
  },
  "cells": [
    {
      "cell_type": "code",
      "execution_count": 1,
      "metadata": {
        "id": "rRGDFK3ZN2ml"
      },
      "outputs": [],
      "source": [
        "#1. Exception in Python , is when we in order to check for a syntax error , we use Try : except message so that the cell runs successfully without giving any syntax error\n",
        "#and puts the message under the except statement"
      ]
    },
    {
      "cell_type": "code",
      "source": [
        "#2. When exception is not handled , it prints error and does not execute the code"
      ],
      "metadata": {
        "id": "xQFTzJ0OOH_m"
      },
      "execution_count": 2,
      "outputs": []
    },
    {
      "cell_type": "code",
      "source": [
        "#3. TRY EXCEPT ELSE FINALLY"
      ],
      "metadata": {
        "id": "wpEEE7nzOM_r"
      },
      "execution_count": 3,
      "outputs": []
    },
    {
      "cell_type": "code",
      "source": [
        "try:\n",
        "  f=open('txt11.txt','r')\n",
        "  f.write('This is my message')\n",
        "except Exception as e:\n",
        "  print('This is an eroor',e)\n",
        "else:\n",
        "  print('This is executed successfully')\n",
        "finally:\n",
        "  print('This is anyways printed')"
      ],
      "metadata": {
        "colab": {
          "base_uri": "https://localhost:8080/"
        },
        "id": "sV1u8GqQORma",
        "outputId": "308c7c0a-828a-47da-833b-6ab80c67a65d"
      },
      "execution_count": 5,
      "outputs": [
        {
          "output_type": "stream",
          "name": "stdout",
          "text": [
            "This is an eroor [Errno 2] No such file or directory: 'txt11.txt'\n",
            "This is anyways printed\n"
          ]
        }
      ]
    },
    {
      "cell_type": "code",
      "source": [
        "#CUSTOM EXCEPTIONS IS WHEN WE CAN CUSTOMISE OUT EXCEPTIONS AND TRY"
      ],
      "metadata": {
        "id": "ZLyHwSqxOYBE"
      },
      "execution_count": 6,
      "outputs": []
    },
    {
      "cell_type": "code",
      "source": [
        "class age1(Exception):\n",
        "  def __init__(self,age):\n",
        "    self.age=age"
      ],
      "metadata": {
        "id": "9M7z5vSiOrkG"
      },
      "execution_count": 7,
      "outputs": []
    },
    {
      "cell_type": "code",
      "source": [
        "def age_validate(age):\n",
        "  if age>200:\n",
        "    raise age1('Age is too high')\n",
        "  elif age1<0:\n",
        "    raise age1('Age is too low')\n",
        "  else:\n",
        "    raise age('Age is correct')"
      ],
      "metadata": {
        "id": "i6PjWTGZOz6u"
      },
      "execution_count": 14,
      "outputs": []
    },
    {
      "cell_type": "code",
      "source": [
        "try:\n",
        "  age=int(input('What is your age'))\n",
        "except age_validate as e:\n",
        "  print(e)\n"
      ],
      "metadata": {
        "colab": {
          "base_uri": "https://localhost:8080/"
        },
        "id": "g7aJ6YNVPF8e",
        "outputId": "c67951a7-45b6-43d6-9b82-831e0ef254d1"
      },
      "execution_count": 15,
      "outputs": [
        {
          "name": "stdout",
          "output_type": "stream",
          "text": [
            "What is your age232\n"
          ]
        }
      ]
    },
    {
      "cell_type": "code",
      "source": [],
      "metadata": {
        "id": "u-LWFb32PhB2"
      },
      "execution_count": null,
      "outputs": []
    }
  ]
}