{
  "nbformat": 4,
  "nbformat_minor": 0,
  "metadata": {
    "colab": {
      "provenance": []
    },
    "kernelspec": {
      "name": "python3",
      "display_name": "Python 3"
    },
    "language_info": {
      "name": "python"
    }
  },
  "cells": [
    {
      "cell_type": "code",
      "execution_count": 1,
      "metadata": {
        "id": "VJlsz9mSPhSV"
      },
      "outputs": [],
      "source": [
        "# GPAY- to send 100rs to XYz. it has to connect to a Bank application , it will ask te bank whether the 100 rs is present or not \n",
        "\n",
        "#BAnk- Check Balance avaialbale or not if yes do:\n",
        "#Transaction Function ()\n",
        "#communication need to be executed between GPAY Language and Bank Language , For that API is used=Application Programming Interface"
      ]
    },
    {
      "cell_type": "code",
      "source": [
        "#API - Different language communicate to each other"
      ],
      "metadata": {
        "id": "PpG3QKM7FsFJ"
      },
      "execution_count": 2,
      "outputs": []
    },
    {
      "cell_type": "code",
      "source": [
        "#WEB API works on ---HTTP Protocol"
      ],
      "metadata": {
        "id": "S3q7cpYzF33N"
      },
      "execution_count": 3,
      "outputs": []
    },
    {
      "cell_type": "code",
      "source": [
        "#Difference between API and WEB API"
      ],
      "metadata": {
        "id": "jaAMI-JDGo89"
      },
      "execution_count": 4,
      "outputs": []
    },
    {
      "cell_type": "code",
      "source": [
        "#API -TCP ,SMTP,  HTTP ... #WEB APP- HTTP"
      ],
      "metadata": {
        "id": "DP5Iv-27HK-D"
      },
      "execution_count": 5,
      "outputs": []
    },
    {
      "cell_type": "code",
      "source": [
        "# WEB API _ THEORY"
      ],
      "metadata": {
        "id": "Vx9Aajo6HkcX"
      },
      "execution_count": 6,
      "outputs": []
    },
    {
      "cell_type": "code",
      "source": [
        "#ARCHITECTURE FOR REST AND SOAP"
      ],
      "metadata": {
        "id": "HcRsKg8YHr9q"
      },
      "execution_count": 7,
      "outputs": []
    },
    {
      "cell_type": "code",
      "source": [
        "#REST- REPRESENTATIONAL STATE TRANSFER- HTTP Hypertextransferprotocol- PUt GET POST DeLETe, Known for simplicity, scalability and flexibility\n",
        "#SIMPLE OBJeCT TRANSFER PROTOCOL-TCP/SMPT - XML-> WSDL- Web seervice description Language ->Wrtie a rule and implement it"
      ],
      "metadata": {
        "id": "YXXg8F1yUP-G"
      },
      "execution_count": 10,
      "outputs": []
    },
    {
      "cell_type": "code",
      "source": [
        "##- "
      ],
      "metadata": {
        "id": "pmCsfCeFUhwX"
      },
      "execution_count": 10,
      "outputs": []
    },
    {
      "cell_type": "markdown",
      "source": [
        "Restful Services:\n",
        "\n",
        "Restful services also known as RESTful APIs are web services that follow the REST architechtural style. REST stands for Representational State Transfer, which is a set of principles for buildinf web services that use HTTP as the communication protocol.\n",
        "\n",
        "Restful services are based on the following principles:\n",
        "1. Client Server architecture. : The client and server are spearated , allowing them to evolve independently\n",
        "\n",
        "2. Stateless : Each request sent to the server contains all the information needed to complete the request. The server does not maintain any client context between requests.\n",
        "\n",
        "3. Caheable: Responses from the server can be cached to improve performance\n",
        "\n",
        "4. Uniform interface: RESTFUL services use a uniform interface consisting of resources., HTTP verbs.\n",
        "\n",
        "5.Layered System- RestFul Serviecs can be composed of multiple layers allowing for scalability , flexibility "
      ],
      "metadata": {
        "id": "IAtiQtUtVUT_"
      }
    }
  ]
}