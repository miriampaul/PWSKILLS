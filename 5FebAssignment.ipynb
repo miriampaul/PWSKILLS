{
  "nbformat": 4,
  "nbformat_minor": 0,
  "metadata": {
    "colab": {
      "provenance": []
    },
    "kernelspec": {
      "name": "python3",
      "display_name": "Python 3"
    },
    "language_info": {
      "name": "python"
    }
  },
  "cells": [
    {
      "cell_type": "code",
      "execution_count": 1,
      "metadata": {
        "id": "jNqb8PLwCB7D"
      },
      "outputs": [],
      "source": [
        "#Class is a blueprint and Object is the description of the class\n",
        "class test1:\n",
        "  def test2(self):\n",
        "    print('welcome')"
      ]
    },
    {
      "cell_type": "code",
      "source": [
        "miriam=test1()"
      ],
      "metadata": {
        "id": "XvB65HwADQh_"
      },
      "execution_count": 2,
      "outputs": []
    },
    {
      "cell_type": "code",
      "source": [
        "miriam.test2()"
      ],
      "metadata": {
        "colab": {
          "base_uri": "https://localhost:8080/"
        },
        "id": "Oa8nyog3DWJ0",
        "outputId": "0d4f083a-8b7d-4d21-c7d0-18e2a31b09d3"
      },
      "execution_count": 4,
      "outputs": [
        {
          "output_type": "stream",
          "name": "stdout",
          "text": [
            "welcome\n"
          ]
        }
      ]
    },
    {
      "cell_type": "code",
      "source": [
        "#Here in the above example[ test 1 is a class][ test2 is an object of the class]"
      ],
      "metadata": {
        "id": "ZOy9b_gLDXiF"
      },
      "execution_count": 5,
      "outputs": []
    },
    {
      "cell_type": "code",
      "source": [
        "#4 pillars of OOPS- \n",
        "#Abstraction\n",
        "#Encapsulation\n",
        "#Polymorphism\n",
        "#Inheritance"
      ],
      "metadata": {
        "id": "nli62iHjDqC0"
      },
      "execution_count": 6,
      "outputs": []
    },
    {
      "cell_type": "code",
      "source": [
        "#3. Why itit method is used .\n",
        "\n",
        "class test3:\n",
        "  def __init__(self,name,email,phone):\n",
        "    self.name=name\n",
        "    self.phone=phone\n",
        "    self.email=email\n",
        "  def return1(self):\n",
        "    return(self.name,self.phone,self.email)"
      ],
      "metadata": {
        "id": "kODhjNZFD4lX"
      },
      "execution_count": 13,
      "outputs": []
    },
    {
      "cell_type": "markdown",
      "source": [],
      "metadata": {
        "id": "XmGPFHcgE7o-"
      }
    },
    {
      "cell_type": "code",
      "source": [
        "#__INIT__ lets class initialize the objects attributes , It is called as the constructor in oops,\n",
        "# This method is called when objet is created from class and it allows class to initialize the attributes of a class"
      ],
      "metadata": {
        "id": "5m_czCWiEdhq"
      },
      "execution_count": 11,
      "outputs": []
    },
    {
      "cell_type": "code",
      "source": [
        "miriam=test3(1234,2324,2434)"
      ],
      "metadata": {
        "id": "bb5CQrHGEkLN"
      },
      "execution_count": 14,
      "outputs": []
    },
    {
      "cell_type": "code",
      "source": [
        "miriam.return1()"
      ],
      "metadata": {
        "colab": {
          "base_uri": "https://localhost:8080/"
        },
        "id": "Ng_2-MssEp1J",
        "outputId": "162e77da-8822-475e-aff6-78d8d1f0ac48"
      },
      "execution_count": 15,
      "outputs": [
        {
          "output_type": "execute_result",
          "data": {
            "text/plain": [
              "(1234, 2434, 2324)"
            ]
          },
          "metadata": {},
          "execution_count": 15
        }
      ]
    },
    {
      "cell_type": "code",
      "source": [
        "#4 Self is used in OOPs"
      ],
      "metadata": {
        "id": "mWylW7hkEriT"
      },
      "execution_count": 16,
      "outputs": []
    },
    {
      "cell_type": "code",
      "source": [
        "# Self is used to work as a reference for an object , example: if there are 2 names in a object, then the self.name1 and self.name2 can be used as a reference"
      ],
      "metadata": {
        "id": "_YRIH_AeFRv7"
      },
      "execution_count": 17,
      "outputs": []
    },
    {
      "cell_type": "code",
      "source": [
        "#5. Inheritance \n",
        "\n",
        "#Inheritance allows us to define a class that inherits all methods and properties from another class\n"
      ],
      "metadata": {
        "id": "MZrD8kTlFnEt"
      },
      "execution_count": null,
      "outputs": []
    }
  ]
}