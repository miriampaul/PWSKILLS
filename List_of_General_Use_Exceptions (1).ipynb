{
  "nbformat": 4,
  "nbformat_minor": 0,
  "metadata": {
    "colab": {
      "provenance": []
    },
    "kernelspec": {
      "name": "python3",
      "display_name": "Python 3"
    },
    "language_info": {
      "name": "python"
    }
  },
  "cells": [
    {
      "cell_type": "code",
      "execution_count": 1,
      "metadata": {
        "colab": {
          "base_uri": "https://localhost:8080/"
        },
        "id": "TG0a1VFBQhgQ",
        "outputId": "42cd0067-319a-4d7e-e3dc-cb46593bd056"
      },
      "outputs": [
        {
          "output_type": "stream",
          "name": "stdout",
          "text": [
            "division by zero\n"
          ]
        }
      ],
      "source": [
        "try:\n",
        "  a=10\n",
        "  10/0\n",
        "except ZeroDivisionError as e:\n",
        "  print(e)"
      ]
    },
    {
      "cell_type": "code",
      "source": [
        "try:\n",
        "  int('sudh')\n",
        "except (ValueError, TypeError) as e:\n",
        "  print(e)"
      ],
      "metadata": {
        "colab": {
          "base_uri": "https://localhost:8080/"
        },
        "id": "kKo85ANKUIy5",
        "outputId": "f71ab1ac-f1c8-4b37-8bb4-6798d6840782"
      },
      "execution_count": 2,
      "outputs": [
        {
          "output_type": "stream",
          "name": "stdout",
          "text": [
            "invalid literal for int() with base 10: 'sudh'\n"
          ]
        }
      ]
    },
    {
      "cell_type": "code",
      "source": [
        "try:\n",
        "  int('Miriasmas')\n",
        "except:\n",
        "  print('This will catch an error')"
      ],
      "metadata": {
        "colab": {
          "base_uri": "https://localhost:8080/"
        },
        "id": "Ht9HeuGYUS5A",
        "outputId": "dd133c5e-b766-4999-88b9-da84d7f20daa"
      },
      "execution_count": 3,
      "outputs": [
        {
          "output_type": "stream",
          "name": "stdout",
          "text": [
            "This will catch an error\n"
          ]
        }
      ]
    },
    {
      "cell_type": "code",
      "source": [
        "try:\n",
        "  import sudh\n",
        "except ImportError as e:\n",
        "  print(e)"
      ],
      "metadata": {
        "colab": {
          "base_uri": "https://localhost:8080/"
        },
        "id": "t7RiqyE4UZaT",
        "outputId": "01f74590-8234-482f-f2f1-935a5a265850"
      },
      "execution_count": 4,
      "outputs": [
        {
          "output_type": "stream",
          "name": "stdout",
          "text": [
            "No module named 'sudh'\n"
          ]
        }
      ]
    },
    {
      "cell_type": "code",
      "source": [
        "try:\n",
        "  d={1:[2,2323],'key':'Miriam'}\n",
        "  d['key19']\n",
        "except KeyError as e:\n",
        "  print(e)"
      ],
      "metadata": {
        "colab": {
          "base_uri": "https://localhost:8080/"
        },
        "id": "-77P2W-RUhAt",
        "outputId": "64915d91-23d6-4c72-8b2c-2b2329cbedb7"
      },
      "execution_count": 5,
      "outputs": [
        {
          "output_type": "stream",
          "name": "stdout",
          "text": [
            "'key19'\n"
          ]
        }
      ]
    },
    {
      "cell_type": "code",
      "source": [
        "try:\n",
        "  'Miriam'.test()\n",
        "except AttributeError as e:\n",
        "  print(e)"
      ],
      "metadata": {
        "colab": {
          "base_uri": "https://localhost:8080/"
        },
        "id": "1LtTUgdZUrUu",
        "outputId": "bf994741-6c7e-4e0a-d4e3-5e2501612b76"
      },
      "execution_count": 6,
      "outputs": [
        {
          "output_type": "stream",
          "name": "stdout",
          "text": [
            "'str' object has no attribute 'test'\n"
          ]
        }
      ]
    },
    {
      "cell_type": "code",
      "source": [
        "try:\n",
        "  l=[1,2,3,4]\n",
        "  l[10]\n",
        "except IndexError as e:\n",
        "  print(e)"
      ],
      "metadata": {
        "colab": {
          "base_uri": "https://localhost:8080/"
        },
        "id": "W3tzjUPrUw8n",
        "outputId": "eba85583-972d-45cd-901a-99b60cc012be"
      },
      "execution_count": 8,
      "outputs": [
        {
          "output_type": "stream",
          "name": "stdout",
          "text": [
            "list index out of range\n"
          ]
        }
      ]
    },
    {
      "cell_type": "code",
      "source": [
        "try:\n",
        "  123+'Miria'\n",
        "except TypeError as e:\n",
        "  print(e)"
      ],
      "metadata": {
        "colab": {
          "base_uri": "https://localhost:8080/"
        },
        "id": "SzLhhQpgUzwr",
        "outputId": "da88be8d-273a-4b50-d003-c74185e20272"
      },
      "execution_count": 9,
      "outputs": [
        {
          "output_type": "stream",
          "name": "stdout",
          "text": [
            "unsupported operand type(s) for +: 'int' and 'str'\n"
          ]
        }
      ]
    },
    {
      "cell_type": "code",
      "source": [
        "try:\n",
        "  with open('test.txt','r') as f:\n",
        "    f.read()\n",
        "except Exception as e:#First comes this so this will execute\n",
        "  print('test',e)\n",
        "except FileNotFoundError as e:\n",
        "  print(e)"
      ],
      "metadata": {
        "colab": {
          "base_uri": "https://localhost:8080/"
        },
        "id": "KE1NbNfvU-y_",
        "outputId": "21ccc897-bacc-4d99-ff40-952ceedcf188"
      },
      "execution_count": 12,
      "outputs": [
        {
          "output_type": "stream",
          "name": "stdout",
          "text": [
            "test [Errno 2] No such file or directory: 'test.txt'\n"
          ]
        }
      ]
    },
    {
      "cell_type": "code",
      "source": [
        "#NEver write Superclass in first place"
      ],
      "metadata": {
        "id": "gLdv0T0ZVHne"
      },
      "execution_count": 13,
      "outputs": []
    },
    {
      "cell_type": "code",
      "source": [
        "def test(file):\n",
        "  try:\n",
        "    with open('test.txt','r') as f:\n",
        "      f.read()\n",
        "  except Exception as e:\n",
        "    print('test',e)\n",
        "  except FileNotFoundError as e:\n",
        "    print(e) "
      ],
      "metadata": {
        "id": "bu5_WuLXVYed"
      },
      "execution_count": 15,
      "outputs": []
    },
    {
      "cell_type": "code",
      "source": [
        "test('test.txt')"
      ],
      "metadata": {
        "colab": {
          "base_uri": "https://localhost:8080/"
        },
        "id": "99S8dkJoVl-E",
        "outputId": "f5c4f044-001d-4076-a897-c8b5188d5103"
      },
      "execution_count": 17,
      "outputs": [
        {
          "output_type": "stream",
          "name": "stdout",
          "text": [
            "test [Errno 2] No such file or directory: 'test.txt'\n"
          ]
        }
      ]
    },
    {
      "cell_type": "code",
      "source": [],
      "metadata": {
        "id": "q0m6AM8dVqe-"
      },
      "execution_count": null,
      "outputs": []
    }
  ]
}