{
  "nbformat": 4,
  "nbformat_minor": 0,
  "metadata": {
    "colab": {
      "provenance": []
    },
    "kernelspec": {
      "name": "python3",
      "display_name": "Python 3"
    },
    "language_info": {
      "name": "python"
    }
  },
  "cells": [
    {
      "cell_type": "code",
      "execution_count": 1,
      "metadata": {
        "id": "fATv-jCA8rw3"
      },
      "outputs": [],
      "source": [
        "def test(a,b):\n",
        "  return a+b"
      ]
    },
    {
      "cell_type": "code",
      "source": [
        "test('miriam',' tirkey')"
      ],
      "metadata": {
        "colab": {
          "base_uri": "https://localhost:8080/",
          "height": 36
        },
        "id": "5QfR9i4Q-uL3",
        "outputId": "db409191-8801-4f02-9fd2-10984fed4cee"
      },
      "execution_count": 3,
      "outputs": [
        {
          "output_type": "execute_result",
          "data": {
            "text/plain": [
              "'miriam tirkey'"
            ],
            "application/vnd.google.colaboratory.intrinsic+json": {
              "type": "string"
            }
          },
          "metadata": {},
          "execution_count": 3
        }
      ]
    },
    {
      "cell_type": "code",
      "source": [
        "test([2,3,4,5,5],[4,5,6,7])"
      ],
      "metadata": {
        "colab": {
          "base_uri": "https://localhost:8080/"
        },
        "id": "x2g1kLOo-8Vo",
        "outputId": "0ca95cb0-17bd-4508-b2ef-a882573681c8"
      },
      "execution_count": 4,
      "outputs": [
        {
          "output_type": "execute_result",
          "data": {
            "text/plain": [
              "[2, 3, 4, 5, 5, 4, 5, 6, 7]"
            ]
          },
          "metadata": {},
          "execution_count": 4
        }
      ]
    },
    {
      "cell_type": "code",
      "source": [
        "class data_science:\n",
        "  def sylabbus(self):\n",
        "    print('This is my method for data science sylabbus')"
      ],
      "metadata": {
        "id": "5X4ZHiAJ_EX1"
      },
      "execution_count": 5,
      "outputs": []
    },
    {
      "cell_type": "code",
      "source": [
        "class web_dev:\n",
        "  def sylabbus(self):\n",
        "    print('This is my method for web dev')"
      ],
      "metadata": {
        "id": "wEne5Bh2_TPI"
      },
      "execution_count": 6,
      "outputs": []
    },
    {
      "cell_type": "code",
      "source": [
        "def class_parcer(class_obj):\n",
        "  for i in class_obj:\n",
        "    i.sylabbus()"
      ],
      "metadata": {
        "id": "rWRY-nu5_Y3c"
      },
      "execution_count": 7,
      "outputs": []
    },
    {
      "cell_type": "code",
      "source": [
        "obj_data_science=data_science()"
      ],
      "metadata": {
        "id": "hG3lCKhq_i-X"
      },
      "execution_count": 8,
      "outputs": []
    },
    {
      "cell_type": "code",
      "source": [
        "obj_web_dev=web_dev()"
      ],
      "metadata": {
        "id": "8n8glJ08_tJV"
      },
      "execution_count": 9,
      "outputs": []
    },
    {
      "cell_type": "code",
      "source": [
        "class_obj=[obj_data_science,obj_web_dev]"
      ],
      "metadata": {
        "id": "JGh4xv7F_vTt"
      },
      "execution_count": 10,
      "outputs": []
    },
    {
      "cell_type": "code",
      "source": [
        "class_parcer(class_obj)"
      ],
      "metadata": {
        "colab": {
          "base_uri": "https://localhost:8080/"
        },
        "id": "lQLgx8yN_6cY",
        "outputId": "8e29405e-7e9b-47e3-b3ff-25d2f027c565"
      },
      "execution_count": 11,
      "outputs": [
        {
          "output_type": "stream",
          "name": "stdout",
          "text": [
            "This is my method for data science sylabbus\n",
            "This is my method for web dev\n"
          ]
        }
      ]
    },
    {
      "cell_type": "code",
      "source": [],
      "metadata": {
        "id": "JSo_9H8F_8_j"
      },
      "execution_count": null,
      "outputs": []
    },
    {
      "cell_type": "code",
      "source": [],
      "metadata": {
        "id": "ms3cMQMsAWvw"
      },
      "execution_count": null,
      "outputs": []
    }
  ]
}