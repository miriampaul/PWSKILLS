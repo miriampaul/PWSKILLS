{
  "nbformat": 4,
  "nbformat_minor": 0,
  "metadata": {
    "colab": {
      "provenance": []
    },
    "kernelspec": {
      "name": "python3",
      "display_name": "Python 3"
    },
    "language_info": {
      "name": "python"
    }
  },
  "cells": [
    {
      "cell_type": "code",
      "execution_count": 11,
      "metadata": {
        "id": "T7Fjsa-V8qSY"
      },
      "outputs": [],
      "source": [
        "import abc\n",
        "class pwskills:\n",
        "  @abc.abstractmethod\n",
        "  def student_details(self):#method under a class\n",
        "    pass\n",
        "  @abc.abstractmethod\n",
        "  def student_assignment(self):\n",
        "    pass\n",
        "  def student_marks(self):\n",
        "    pass"
      ]
    },
    {
      "cell_type": "code",
      "source": [
        " class data_science(pwskills):\n",
        "   def student_details(self):\n",
        "     return \"It will try to return a details of data science masters\"\n",
        "\n",
        "   def student_assignment(self):\n",
        "      return \"it will return a details of studentassignment of data science masters\""
      ],
      "metadata": {
        "id": "d2qKfA7SIbk3"
      },
      "execution_count": 9,
      "outputs": []
    },
    {
      "cell_type": "code",
      "source": [
        "class web_dev(pwskills):\n",
        "  def student_details(self):\n",
        "    return \"this will return a details of web Dev\"\n",
        "  def student_marks(self):\n",
        "    return \"this will return a marks of web dev class\""
      ],
      "metadata": {
        "id": "3GD9es7QLZGS"
      },
      "execution_count": 10,
      "outputs": []
    },
    {
      "cell_type": "code",
      "source": [
        "ds=data_science()\n",
        "ds.student_details()"
      ],
      "metadata": {
        "colab": {
          "base_uri": "https://localhost:8080/",
          "height": 36
        },
        "id": "Ut-38NxFL1hm",
        "outputId": "26a247fa-d8b5-44f6-d0d5-e7c97eb8c530"
      },
      "execution_count": 12,
      "outputs": [
        {
          "output_type": "execute_result",
          "data": {
            "text/plain": [
              "'It will try to return a details of data science masters'"
            ],
            "application/vnd.google.colaboratory.intrinsic+json": {
              "type": "string"
            }
          },
          "metadata": {},
          "execution_count": 12
        }
      ]
    },
    {
      "cell_type": "code",
      "source": [
        "wb=web_dev()\n",
        "wb.student_marks()\n"
      ],
      "metadata": {
        "colab": {
          "base_uri": "https://localhost:8080/",
          "height": 36
        },
        "id": "JmRCNV0iP9G6",
        "outputId": "914c7ffb-319a-4d6e-b691-3da83341bfcb"
      },
      "execution_count": 13,
      "outputs": [
        {
          "output_type": "execute_result",
          "data": {
            "text/plain": [
              "'this will return a marks of web dev class'"
            ],
            "application/vnd.google.colaboratory.intrinsic+json": {
              "type": "string"
            }
          },
          "metadata": {},
          "execution_count": 13
        }
      ]
    },
    {
      "cell_type": "code",
      "source": [],
      "metadata": {
        "id": "ZRVPdBBeQfNl"
      },
      "execution_count": null,
      "outputs": []
    }
  ]
}