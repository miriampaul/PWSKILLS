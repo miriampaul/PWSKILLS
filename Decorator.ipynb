{
  "nbformat": 4,
  "nbformat_minor": 0,
  "metadata": {
    "colab": {
      "provenance": []
    },
    "kernelspec": {
      "name": "python3",
      "display_name": "Python 3"
    },
    "language_info": {
      "name": "python"
    }
  },
  "cells": [
    {
      "cell_type": "code",
      "execution_count": 2,
      "metadata": {
        "id": "beGon5FIOspE"
      },
      "outputs": [],
      "source": [
        "def test():\n",
        "  print(\"This is the start of my function\")\n",
        "  print(4+5)\n",
        "  print('This is the end of my func')"
      ]
    },
    {
      "cell_type": "code",
      "source": [
        "test()"
      ],
      "metadata": {
        "colab": {
          "base_uri": "https://localhost:8080/"
        },
        "id": "ozlbXzz5OzHA",
        "outputId": "4a9a44aa-1c29-4e14-e9aa-612ba0661771"
      },
      "execution_count": 3,
      "outputs": [
        {
          "output_type": "stream",
          "name": "stdout",
          "text": [
            "This is the start of my function\n",
            "9\n",
            "This is the end of my func\n"
          ]
        }
      ]
    },
    {
      "cell_type": "code",
      "source": [
        "def deco(func):\n",
        "  def inner_deco():\n",
        "    print('This is the start of my func')\n",
        "    func()\n",
        "    print('This is the end of my func')\n",
        "  return inner_deco"
      ],
      "metadata": {
        "id": "J2UjMVJxO4xN"
      },
      "execution_count": 4,
      "outputs": []
    },
    {
      "cell_type": "code",
      "source": [
        "@deco\n",
        "def test1():\n",
        "  print(4+5)"
      ],
      "metadata": {
        "id": "4TJVUoMCP4j1"
      },
      "execution_count": 7,
      "outputs": []
    },
    {
      "cell_type": "code",
      "source": [
        "test1()"
      ],
      "metadata": {
        "colab": {
          "base_uri": "https://localhost:8080/"
        },
        "id": "fiyUZvTsP72x",
        "outputId": "3260eaf4-4c63-4dc6-cd7d-bbd651fc5e28"
      },
      "execution_count": 8,
      "outputs": [
        {
          "output_type": "stream",
          "name": "stdout",
          "text": [
            "This is the start of my func\n",
            "9\n",
            "This is the end of my func\n"
          ]
        }
      ]
    },
    {
      "cell_type": "code",
      "source": [
        "import time"
      ],
      "metadata": {
        "id": "2_Y7DYOkQEHb"
      },
      "execution_count": 9,
      "outputs": []
    },
    {
      "cell_type": "code",
      "source": [
        "def timer_test(func):\n",
        "  def timer_test_inner():\n",
        "    start=time.time()\n",
        "    func()\n",
        "    end=time.time()\n",
        "    print(end-start)\n",
        "  return timer_test_inner"
      ],
      "metadata": {
        "id": "Jn_CbIONZrok"
      },
      "execution_count": 10,
      "outputs": []
    },
    {
      "cell_type": "code",
      "source": [
        "@timer_test\n",
        "def test2():\n",
        "  print(45+67)"
      ],
      "metadata": {
        "id": "ni9RqKLMZ6Vx"
      },
      "execution_count": 11,
      "outputs": []
    },
    {
      "cell_type": "code",
      "source": [
        "test2()"
      ],
      "metadata": {
        "colab": {
          "base_uri": "https://localhost:8080/"
        },
        "id": "Pn0b_qPFaEWJ",
        "outputId": "1fc37e64-af09-487b-cc96-c5cf758f5e1b"
      },
      "execution_count": 12,
      "outputs": [
        {
          "output_type": "stream",
          "name": "stdout",
          "text": [
            "112\n",
            "0.001245260238647461\n"
          ]
        }
      ]
    },
    {
      "cell_type": "code",
      "source": [
        "@timer_test\n",
        "def test3():\n",
        "  for i in range(1000000):\n",
        "    pass"
      ],
      "metadata": {
        "id": "fOhqzBfZaFho"
      },
      "execution_count": 22,
      "outputs": []
    },
    {
      "cell_type": "code",
      "source": [
        "test3()"
      ],
      "metadata": {
        "colab": {
          "base_uri": "https://localhost:8080/"
        },
        "id": "cznxCnIUaNWI",
        "outputId": "38d2e700-01e8-40cd-d752-e6dbbea7b9ed"
      },
      "execution_count": 23,
      "outputs": [
        {
          "output_type": "stream",
          "name": "stdout",
          "text": [
            "0.02081012725830078\n"
          ]
        }
      ]
    },
    {
      "cell_type": "code",
      "source": [],
      "metadata": {
        "id": "houNHMsuaQMR"
      },
      "execution_count": null,
      "outputs": []
    }
  ]
}