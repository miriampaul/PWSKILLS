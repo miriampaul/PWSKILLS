{
  "nbformat": 4,
  "nbformat_minor": 0,
  "metadata": {
    "colab": {
      "provenance": []
    },
    "kernelspec": {
      "name": "python3",
      "display_name": "Python 3"
    },
    "language_info": {
      "name": "python"
    }
  },
  "cells": [
    {
      "cell_type": "code",
      "execution_count": 2,
      "metadata": {
        "id": "cx187J3t399D"
      },
      "outputs": [],
      "source": [
        "#1.Guido Van Rossum Developed Python\\\n",
        "#2.Object Oriented Programming\n",
        "#3.Yes Python is case sensitive\n",
        "#4. Extension-.py or .pynb\n",
        "#5. Python is both compiled and interpreted but mostly interpreted\n",
        "#6. '#' used to give single line comments in python\n",
        "#8. To find version of python, Open command prompt, type Python--version\n",
        "#9. Lambda\n",
        "#10.pip=preferred installment Package\n",
        "#11. Built in python functions are - upper(),lower(),str(),count(), sum(),max()\n",
        "#12. 79 characters\n",
        "#13. Uses of Python; Open source, dynamic language, can be used for data analysis, is easy to learn , is easy to implement is various fields\n",
        "#14. memory is managed in python=Through bytes\n",
        "#15. install python on windows by downloading python and in command prompt type path of the python file\n",
        "#16. Yes indentation is required in python \n",
        "BYE\n"
      ]
    },
    {
      "cell_type": "markdown",
      "source": [
        "\n",
        "\n",
        "```\n",
        "# This is formatted as code\n",
        "```\n",
        "\n"
      ],
      "metadata": {
        "id": "bNCY2KkU56qV"
      }
    },
    {
      "cell_type": "code",
      "source": [],
      "metadata": {
        "id": "jf-u7Iem615m"
      },
      "execution_count": 2,
      "outputs": []
    },
    {
      "cell_type": "code",
      "source": [],
      "metadata": {
        "id": "lPPkEqQN6-vE"
      },
      "execution_count": null,
      "outputs": []
    }
  ]
}