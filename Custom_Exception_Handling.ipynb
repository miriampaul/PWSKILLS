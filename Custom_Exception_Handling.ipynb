{
  "nbformat": 4,
  "nbformat_minor": 0,
  "metadata": {
    "colab": {
      "provenance": []
    },
    "kernelspec": {
      "name": "python3",
      "display_name": "Python 3"
    },
    "language_info": {
      "name": "python"
    }
  },
  "cells": [
    {
      "cell_type": "code",
      "execution_count": 1,
      "metadata": {
        "colab": {
          "base_uri": "https://localhost:8080/"
        },
        "id": "kGFh0cGJL9TJ",
        "outputId": "eee074fb-adcd-48c3-91b2-44998961a51f"
      },
      "outputs": [
        {
          "name": "stdout",
          "output_type": "stream",
          "text": [
            "Enter your age3434\n"
          ]
        }
      ],
      "source": [
        "age=int(input('Enter your age'))"
      ]
    },
    {
      "cell_type": "code",
      "source": [
        "class validateage(Exception):\n",
        "  def __init__(self,msg):\n",
        "    self.msg=msg"
      ],
      "metadata": {
        "id": "B7e-ONNZMK0F"
      },
      "execution_count": 7,
      "outputs": []
    },
    {
      "cell_type": "code",
      "source": [
        "def validate_age(age):\n",
        "  if age<0:\n",
        "    raise validateage('Age should not be lesser than zero')\n",
        "  elif age>200:\n",
        "    raise validateage('Age is too high')\n",
        "  else:\n",
        "    print('Age is valid')"
      ],
      "metadata": {
        "id": "HHqe0wzIMcc8"
      },
      "execution_count": 8,
      "outputs": []
    },
    {
      "cell_type": "code",
      "source": [
        "try:\n",
        "  age=int(input('Enter your age'))\n",
        "  validate_age(age)\n",
        "except validateage as e:\n",
        "  print(e)"
      ],
      "metadata": {
        "colab": {
          "base_uri": "https://localhost:8080/"
        },
        "id": "kABq58IVM5wn",
        "outputId": "c2afcfe2-7a6d-4bde-ed3e-88f65a5e6f31"
      },
      "execution_count": 9,
      "outputs": [
        {
          "output_type": "stream",
          "name": "stdout",
          "text": [
            "Enter your age23\n",
            "Age is valid\n"
          ]
        }
      ]
    },
    {
      "cell_type": "code",
      "source": [],
      "metadata": {
        "id": "Mky8nYi3NOPm"
      },
      "execution_count": 5,
      "outputs": []
    }
  ]
}