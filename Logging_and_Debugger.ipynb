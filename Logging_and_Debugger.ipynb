{
  "nbformat": 4,
  "nbformat_minor": 0,
  "metadata": {
    "colab": {
      "provenance": []
    },
    "kernelspec": {
      "name": "python3",
      "display_name": "Python 3"
    },
    "language_info": {
      "name": "python"
    }
  },
  "cells": [
    {
      "cell_type": "code",
      "execution_count": 1,
      "metadata": {
        "colab": {
          "base_uri": "https://localhost:8080/"
        },
        "id": "O0EAEHTm2et5",
        "outputId": "aa306fa6-199c-4f6a-a4f6-52cfeea289ae"
      },
      "outputs": [
        {
          "output_type": "stream",
          "name": "stdout",
          "text": [
            "This is my print statement\n"
          ]
        }
      ],
      "source": [
        "print('This is my print statement')"
      ]
    },
    {
      "cell_type": "code",
      "source": [
        "import logging"
      ],
      "metadata": {
        "id": "JXGiW2mH2ir7"
      },
      "execution_count": 2,
      "outputs": []
    },
    {
      "cell_type": "code",
      "source": [
        "logging.basicConfig(filename='test.log',level=logging.INFO)"
      ],
      "metadata": {
        "id": "bRwcF-cP3EoB"
      },
      "execution_count": 3,
      "outputs": []
    },
    {
      "cell_type": "code",
      "source": [
        "logging.info('This is my line of execution')"
      ],
      "metadata": {
        "id": "YtwfvivP3OmH"
      },
      "execution_count": 4,
      "outputs": []
    },
    {
      "cell_type": "code",
      "source": [
        "logging.error('This is my error')"
      ],
      "metadata": {
        "colab": {
          "base_uri": "https://localhost:8080/"
        },
        "id": "HoZ5Oep93ZY9",
        "outputId": "62855254-6311-4090-f14c-8e3fd01e567d"
      },
      "execution_count": 5,
      "outputs": [
        {
          "output_type": "stream",
          "name": "stderr",
          "text": [
            "ERROR:root:This is my error\n"
          ]
        }
      ]
    },
    {
      "cell_type": "code",
      "source": [
        "logging.critical('This is my critical')"
      ],
      "metadata": {
        "colab": {
          "base_uri": "https://localhost:8080/"
        },
        "id": "KYZl4asQ3i-x",
        "outputId": "f045a23b-49a8-4500-bfbb-6c01d5ec4f4a"
      },
      "execution_count": 6,
      "outputs": [
        {
          "output_type": "stream",
          "name": "stderr",
          "text": [
            "CRITICAL:root:This is my critical\n"
          ]
        }
      ]
    },
    {
      "cell_type": "code",
      "source": [
        "#NOSET 2. DEBUG 3. INFO 4.WARNING 5. ERROR 6. CRITICAL\n"
      ],
      "metadata": {
        "id": "e17A4YMN3mfT"
      },
      "execution_count": 7,
      "outputs": []
    },
    {
      "cell_type": "code",
      "source": [
        "logging.warning('This is my warning')"
      ],
      "metadata": {
        "colab": {
          "base_uri": "https://localhost:8080/"
        },
        "id": "Ba9RoMMW3pY3",
        "outputId": "3274f734-d26c-42f4-a577-f6b4d5aa1ecb"
      },
      "execution_count": 8,
      "outputs": [
        {
          "output_type": "stream",
          "name": "stderr",
          "text": [
            "WARNING:root:This is my warning\n"
          ]
        }
      ]
    },
    {
      "cell_type": "code",
      "source": [
        "logging.debug('This is my debug')"
      ],
      "metadata": {
        "id": "vMXLGIsZ3-A0"
      },
      "execution_count": 9,
      "outputs": []
    },
    {
      "cell_type": "code",
      "source": [
        "logging.noset('This is my noset related log')"
      ],
      "metadata": {
        "colab": {
          "base_uri": "https://localhost:8080/",
          "height": 166
        },
        "id": "obLPD7414Ap9",
        "outputId": "54741b79-7619-4ce8-b279-0e6be6123b00"
      },
      "execution_count": 10,
      "outputs": [
        {
          "output_type": "error",
          "ename": "AttributeError",
          "evalue": "ignored",
          "traceback": [
            "\u001b[0;31m---------------------------------------------------------------------------\u001b[0m",
            "\u001b[0;31mAttributeError\u001b[0m                            Traceback (most recent call last)",
            "\u001b[0;32m<ipython-input-10-583db5e562c4>\u001b[0m in \u001b[0;36m<cell line: 1>\u001b[0;34m()\u001b[0m\n\u001b[0;32m----> 1\u001b[0;31m \u001b[0mlogging\u001b[0m\u001b[0;34m.\u001b[0m\u001b[0mnoset\u001b[0m\u001b[0;34m(\u001b[0m\u001b[0;34m'This is my noset related log'\u001b[0m\u001b[0;34m)\u001b[0m\u001b[0;34m\u001b[0m\u001b[0;34m\u001b[0m\u001b[0m\n\u001b[0m",
            "\u001b[0;31mAttributeError\u001b[0m: module 'logging' has no attribute 'noset'"
          ]
        }
      ]
    },
    {
      "cell_type": "code",
      "source": [
        "logging"
      ],
      "metadata": {
        "colab": {
          "base_uri": "https://localhost:8080/"
        },
        "id": "FSjZG4ri4GLL",
        "outputId": "ccbff428-0e45-424f-8816-7e94f20b8d88"
      },
      "execution_count": 11,
      "outputs": [
        {
          "output_type": "execute_result",
          "data": {
            "text/plain": [
              "<module 'logging' from '/usr/lib/python3.9/logging/__init__.py'>"
            ]
          },
          "metadata": {},
          "execution_count": 11
        }
      ]
    },
    {
      "cell_type": "code",
      "source": [
        "logging.shutdown()"
      ],
      "metadata": {
        "id": "bMLSSmUN4G2b"
      },
      "execution_count": 12,
      "outputs": []
    },
    {
      "cell_type": "code",
      "source": [
        "logging.basicConfig(filename='test1.log', level=logging.DEBUG, format='%(asctime)s %(message)s')"
      ],
      "metadata": {
        "id": "ajBeu5At4Ws7"
      },
      "execution_count": 13,
      "outputs": []
    },
    {
      "cell_type": "code",
      "source": [
        "logging.info('This is my info log')"
      ],
      "metadata": {
        "id": "2ZlHooe44jKP"
      },
      "execution_count": 14,
      "outputs": []
    },
    {
      "cell_type": "code",
      "source": [
        "logging.debug('This is my debug log')"
      ],
      "metadata": {
        "id": "GFYaPBb941QO"
      },
      "execution_count": 15,
      "outputs": []
    },
    {
      "cell_type": "code",
      "source": [
        "logging.warning('This is my warning')"
      ],
      "metadata": {
        "colab": {
          "base_uri": "https://localhost:8080/"
        },
        "id": "nasAgxJa45Bo",
        "outputId": "7d51e73e-7fac-4a7b-8341-25ca202d03fa"
      },
      "execution_count": 16,
      "outputs": [
        {
          "output_type": "stream",
          "name": "stderr",
          "text": [
            "WARNING:root:This is my warning\n"
          ]
        }
      ]
    },
    {
      "cell_type": "markdown",
      "source": [],
      "metadata": {
        "id": "29_iZpAd5Tow"
      }
    },
    {
      "cell_type": "code",
      "source": [
        "logging.shutdown()"
      ],
      "metadata": {
        "id": "BICGC8-447nb"
      },
      "execution_count": 17,
      "outputs": []
    },
    {
      "cell_type": "code",
      "source": [
        "logging.basicConfig(filename='test3.log',level=logging.DEBUG, format='%(asctime)s %(message)s')"
      ],
      "metadata": {
        "id": "iloqq3yr5Wd8"
      },
      "execution_count": 18,
      "outputs": []
    },
    {
      "cell_type": "code",
      "source": [
        "logging.info('This is my info log')"
      ],
      "metadata": {
        "id": "EtUjiI9b5kKP"
      },
      "execution_count": 19,
      "outputs": []
    },
    {
      "cell_type": "code",
      "source": [
        "l=[1,2,3,4,[4,5,6],'Miriam','Paul']"
      ],
      "metadata": {
        "id": "VNhlYqDY54lE"
      },
      "execution_count": 20,
      "outputs": []
    },
    {
      "cell_type": "code",
      "source": [
        "l1_int=[]\n",
        "l2_str=[]\n",
        "for i in l:\n",
        "  logging.info('This is the start of my first for loop{}'.format(l))\n",
        "  logging.info('This is the value of i i am logging{}'.format(i))\n",
        "  if type(i)==list:\n",
        "    for j in i:\n",
        "      logging.info('logging my j is {} and i is {}'.format(i=i ,j=j))\n",
        "        if type(j)==int:\n",
        "        l1_int.append(j)\n",
        "  elif type(i)==int:\n",
        "      l1_int.append(i)\n",
        "  else:\n",
        "    if type(i)==str:\n",
        "      l2_str.append(i)"
      ],
      "metadata": {
        "colab": {
          "base_uri": "https://localhost:8080/",
          "height": 131
        },
        "id": "nNmdv1q259jT",
        "outputId": "1f49cb22-ddb2-46f3-e28b-424a1b91fe78"
      },
      "execution_count": 37,
      "outputs": [
        {
          "output_type": "error",
          "ename": "IndentationError",
          "evalue": "ignored",
          "traceback": [
            "\u001b[0;36m  File \u001b[0;32m\"<ipython-input-37-431f214c60b4>\"\u001b[0;36m, line \u001b[0;32m9\u001b[0m\n\u001b[0;31m    if type(j)==int:\u001b[0m\n\u001b[0m    ^\u001b[0m\n\u001b[0;31mIndentationError\u001b[0m\u001b[0;31m:\u001b[0m unexpected indent\n"
          ]
        }
      ]
    },
    {
      "cell_type": "code",
      "source": [
        "l1_int"
      ],
      "metadata": {
        "colab": {
          "base_uri": "https://localhost:8080/"
        },
        "id": "GdgUOx0Y6UhT",
        "outputId": "30900703-f5f1-45fc-e3e5-3e9b6c702240"
      },
      "execution_count": 32,
      "outputs": [
        {
          "output_type": "execute_result",
          "data": {
            "text/plain": [
              "[1, 2, 3, 4]"
            ]
          },
          "metadata": {},
          "execution_count": 32
        }
      ]
    },
    {
      "cell_type": "code",
      "source": [],
      "metadata": {
        "id": "ikiQIDiG6VnR"
      },
      "execution_count": null,
      "outputs": []
    }
  ]
}