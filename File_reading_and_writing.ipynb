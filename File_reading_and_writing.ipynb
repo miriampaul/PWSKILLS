{
  "nbformat": 4,
  "nbformat_minor": 0,
  "metadata": {
    "colab": {
      "provenance": [],
      "history_visible": true
    },
    "kernelspec": {
      "name": "python3",
      "display_name": "Python 3"
    },
    "language_info": {
      "name": "python"
    }
  },
  "cells": [
    {
      "cell_type": "code",
      "execution_count": 1,
      "metadata": {
        "id": "kDBFLbRpSqTL"
      },
      "outputs": [],
      "source": [
        "#read and write operations"
      ]
    },
    {
      "cell_type": "code",
      "source": [
        "data={\n",
        "    'name':'Miriam',\n",
        "    'mail_id':'miriam@gmail.com',\n",
        "    'phone_no': 9439434343,\n",
        "    'subject':['ds','dsa','bg']\n",
        "}"
      ],
      "metadata": {
        "id": "D4tCnajLYLg_"
      },
      "execution_count": 2,
      "outputs": []
    },
    {
      "cell_type": "code",
      "source": [
        "import json"
      ],
      "metadata": {
        "id": "9zRL45otYdzx"
      },
      "execution_count": 3,
      "outputs": []
    },
    {
      "cell_type": "code",
      "source": [
        "with open('test1.json','w') as f:\n",
        "  json.dump(data,f)"
      ],
      "metadata": {
        "id": "lohr13tLYg8l"
      },
      "execution_count": 4,
      "outputs": []
    },
    {
      "cell_type": "code",
      "source": [
        "with open('test1.json','r') as f:\n",
        "  data1=json.load(f)"
      ],
      "metadata": {
        "id": "lGiwOtgNYokt"
      },
      "execution_count": 7,
      "outputs": []
    },
    {
      "cell_type": "code",
      "source": [
        "data1"
      ],
      "metadata": {
        "colab": {
          "base_uri": "https://localhost:8080/"
        },
        "id": "LFJFXHdrY4T6",
        "outputId": "4a3881ce-118d-43ea-82c0-bb70fa60574a"
      },
      "execution_count": 8,
      "outputs": [
        {
          "output_type": "execute_result",
          "data": {
            "text/plain": [
              "{'name': 'Miriam',\n",
              " 'mail_id': 'miriam@gmail.com',\n",
              " 'phone_no': 9439434343,\n",
              " 'subject': ['ds', 'dsa', 'bg']}"
            ]
          },
          "metadata": {},
          "execution_count": 8
        }
      ]
    },
    {
      "cell_type": "code",
      "source": [
        "data1['subject']"
      ],
      "metadata": {
        "colab": {
          "base_uri": "https://localhost:8080/"
        },
        "id": "xnBFr7WSY8qG",
        "outputId": "cce03f54-6276-4f3a-c32b-273effda6efd"
      },
      "execution_count": 9,
      "outputs": [
        {
          "output_type": "execute_result",
          "data": {
            "text/plain": [
              "['ds', 'dsa', 'bg']"
            ]
          },
          "metadata": {},
          "execution_count": 9
        }
      ]
    },
    {
      "cell_type": "code",
      "source": [
        "#READ AND WRITE FOR CSV DATA?"
      ],
      "metadata": {
        "id": "sbyGFOi7n844"
      },
      "execution_count": 10,
      "outputs": []
    },
    {
      "cell_type": "code",
      "source": [
        "data=[['name','email_id','number'],\n",
        "      ['miriam','miriam@gmail.com',394892024],\n",
        "      ['sdksd','dsdsd',39349342]\n",
        "      ]"
      ],
      "metadata": {
        "id": "yRcUR1bQoBAr"
      },
      "execution_count": 13,
      "outputs": []
    },
    {
      "cell_type": "code",
      "source": [
        "import csv"
      ],
      "metadata": {
        "id": "Oja9ysW1oM4I"
      },
      "execution_count": 14,
      "outputs": []
    },
    {
      "cell_type": "code",
      "source": [
        "with open('test3.csv','w') as f:\n",
        "  w=csv.writer(f)\n",
        "  for i in data:\n",
        "    w.writerow(i)"
      ],
      "metadata": {
        "id": "cU1zrSidwy0d"
      },
      "execution_count": 15,
      "outputs": []
    },
    {
      "cell_type": "code",
      "source": [
        "with open('test3.csv','r') as f:\n",
        "  read=csv.reader(f)\n",
        "  for i in data:\n",
        "    print(i)"
      ],
      "metadata": {
        "colab": {
          "base_uri": "https://localhost:8080/"
        },
        "id": "krpASfWfxH0Z",
        "outputId": "adcf360f-432e-42f6-a4ea-e6f9756e8157"
      },
      "execution_count": 17,
      "outputs": [
        {
          "output_type": "stream",
          "name": "stdout",
          "text": [
            "['name', 'email_id', 'number']\n",
            "['miriam', 'miriam@gmail.com', 394892024]\n",
            "['sdksd', 'dsdsd', 39349342]\n"
          ]
        }
      ]
    },
    {
      "cell_type": "code",
      "source": [
        "with open('test4.bin','wb') as f:\n",
        "  f.write(b\"\\x01\\x02\\x03\")"
      ],
      "metadata": {
        "id": "UevCkd7PxHzE"
      },
      "execution_count": 18,
      "outputs": []
    },
    {
      "cell_type": "code",
      "source": [
        "with open('test4.bin','rb') as f:\n",
        "  print(f.read())"
      ],
      "metadata": {
        "colab": {
          "base_uri": "https://localhost:8080/"
        },
        "id": "1x3611jzxBck",
        "outputId": "d5fe9edf-0ba4-47e4-bb30-77372293fd55"
      },
      "execution_count": 19,
      "outputs": [
        {
          "output_type": "stream",
          "name": "stdout",
          "text": [
            "b'\\x01\\x02\\x03'\n"
          ]
        }
      ]
    },
    {
      "cell_type": "code",
      "source": [],
      "metadata": {
        "id": "uI8gmcjMyMKT"
      },
      "execution_count": null,
      "outputs": []
    }
  ]
}