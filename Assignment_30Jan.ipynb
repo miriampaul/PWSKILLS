{
  "nbformat": 4,
  "nbformat_minor": 0,
  "metadata": {
    "colab": {
      "provenance": []
    },
    "kernelspec": {
      "name": "python3",
      "display_name": "Python 3"
    },
    "language_info": {
      "name": "python"
    }
  },
  "cells": [
    {
      "cell_type": "code",
      "execution_count": 1,
      "metadata": {
        "id": "b9XObCJjHeCD"
      },
      "outputs": [],
      "source": [
        "# Write a program to accept percentage from the user and display gradde"
      ]
    },
    {
      "cell_type": "code",
      "source": [
        "user1=int(input('what is your marks? '))\n"
      ],
      "metadata": {
        "colab": {
          "base_uri": "https://localhost:8080/"
        },
        "id": "Gt6TnAHnHsQd",
        "outputId": "767754ad-6dd2-4ff9-e666-966d453f90bc"
      },
      "execution_count": 7,
      "outputs": [
        {
          "name": "stdout",
          "output_type": "stream",
          "text": [
            "what is your marks? 89\n"
          ]
        }
      ]
    },
    {
      "cell_type": "code",
      "source": [
        "if user1>90:\n",
        "  print('your grade is \"A\"')\n",
        "elif user1>80 and user1<=90:\n",
        "    print('your grade is \"B\"')\n",
        "elif user1>=60 and user1<=80:\n",
        "  print('Your grade is \"C\"')\n",
        "elif user1<60:\n",
        "  print('Your Grade is D')"
      ],
      "metadata": {
        "colab": {
          "base_uri": "https://localhost:8080/"
        },
        "id": "SV-nh4gzIKlR",
        "outputId": "9b015027-e4fb-43f2-f8e4-b4cb090f82e4"
      },
      "execution_count": 8,
      "outputs": [
        {
          "output_type": "stream",
          "name": "stdout",
          "text": [
            "your grade is \"B\"\n"
          ]
        }
      ]
    },
    {
      "cell_type": "code",
      "source": [
        "#Write a program to accept the cost price of a bike and display the road tax to be paid according to the following criteria"
      ],
      "metadata": {
        "id": "rb2g1G-bJBl4"
      },
      "execution_count": 9,
      "outputs": []
    },
    {
      "cell_type": "code",
      "source": [
        "bike_cost=int(input('what is the cost of your bike? : '))"
      ],
      "metadata": {
        "colab": {
          "base_uri": "https://localhost:8080/"
        },
        "id": "K0vsyAE-Lbfk",
        "outputId": "b2374793-b9d1-4bee-da3d-2f7312a97b89"
      },
      "execution_count": 17,
      "outputs": [
        {
          "name": "stdout",
          "output_type": "stream",
          "text": [
            "what is the cost of your bike? : 50000\n"
          ]
        }
      ]
    },
    {
      "cell_type": "code",
      "source": [
        "if bike_cost>100000:\n",
        "  print('The tax to be paid is {}'.format(bike_cost*15/100))\n",
        "elif bike_cost>50000 and bike_cost<=100000:\n",
        "  print('This tax to be paid is {}'.format(bike_cost*10/100))\n",
        "elif bike_cost<=50000:\n",
        "  print('This tax to be paid is {}'.format(bike_cost*5/100))"
      ],
      "metadata": {
        "colab": {
          "base_uri": "https://localhost:8080/"
        },
        "id": "L7rW7FzjLhlt",
        "outputId": "3437713f-bcc2-4b31-e4dc-c5bf2c2d8a93"
      },
      "execution_count": 18,
      "outputs": [
        {
          "output_type": "stream",
          "name": "stdout",
          "text": [
            "This tax to be paid is 250.0\n"
          ]
        }
      ]
    },
    {
      "cell_type": "code",
      "source": [
        "#Accept any city from the user and display the monumnets of that city"
      ],
      "metadata": {
        "id": "uz1cufuML0di"
      },
      "execution_count": 19,
      "outputs": []
    },
    {
      "cell_type": "code",
      "source": [
        "user_city=input('what is ur city?').upper()"
      ],
      "metadata": {
        "colab": {
          "base_uri": "https://localhost:8080/"
        },
        "id": "lJ8r0x36Peg0",
        "outputId": "f210ec42-07c1-424f-dd8c-de3e9bef9e62"
      },
      "execution_count": 22,
      "outputs": [
        {
          "name": "stdout",
          "output_type": "stream",
          "text": [
            "what is ur city?agra\n"
          ]
        }
      ]
    },
    {
      "cell_type": "code",
      "source": [
        "if user_city=='DELHI':\n",
        "  print('Red Fort')\n",
        "elif user_city=='AGRA':\n",
        "  print('Taj Mahal')\n",
        "elif user_city=='JAIPUR':\n",
        "  print('Jal Mahal')"
      ],
      "metadata": {
        "colab": {
          "base_uri": "https://localhost:8080/"
        },
        "id": "vZ0FfmlSPm5G",
        "outputId": "22c86af9-9bba-44ae-b07f-92720e230ed4"
      },
      "execution_count": 24,
      "outputs": [
        {
          "output_type": "stream",
          "name": "stdout",
          "text": [
            "Taj Mahal\n"
          ]
        }
      ]
    },
    {
      "cell_type": "code",
      "source": [
        "#4 Check how many times a given number can be divided by 3 before it is less than or equal to 10"
      ],
      "metadata": {
        "id": "9uW_z6xiPoac"
      },
      "execution_count": 25,
      "outputs": []
    },
    {
      "cell_type": "code",
      "source": [
        "for i in range(1,11):\n",
        "  if i%3==0:\n",
        "    print(i)"
      ],
      "metadata": {
        "colab": {
          "base_uri": "https://localhost:8080/"
        },
        "id": "iBmHVF91QPHB",
        "outputId": "de8501d2-05b3-484f-ccaa-ccba858fe9a2"
      },
      "execution_count": 26,
      "outputs": [
        {
          "output_type": "stream",
          "name": "stdout",
          "text": [
            "3\n",
            "6\n",
            "9\n"
          ]
        }
      ]
    },
    {
      "cell_type": "code",
      "source": [
        "#5. While loop is used only if a condition is True"
      ],
      "metadata": {
        "id": "8BNXtXFoQcR7"
      },
      "execution_count": 27,
      "outputs": []
    },
    {
      "cell_type": "code",
      "source": [
        "age=50\n",
        "while age<=50:\n",
        "  age=age+1"
      ],
      "metadata": {
        "id": "cJ7V-NCyQidt"
      },
      "execution_count": 30,
      "outputs": []
    },
    {
      "cell_type": "code",
      "source": [
        "age"
      ],
      "metadata": {
        "colab": {
          "base_uri": "https://localhost:8080/"
        },
        "id": "ZoM89BJ-QoD9",
        "outputId": "efe23388-38e4-4c3a-af34-70f54286d543"
      },
      "execution_count": 31,
      "outputs": [
        {
          "output_type": "execute_result",
          "data": {
            "text/plain": [
              "51"
            ]
          },
          "metadata": {},
          "execution_count": 31
        }
      ]
    },
    {
      "cell_type": "code",
      "source": [
        "#6 and 7 Reverse a while loop t print numbers from 10 to 1"
      ],
      "metadata": {
        "id": "8p7wQAoiQsuz"
      },
      "execution_count": 32,
      "outputs": []
    },
    {
      "cell_type": "code",
      "source": [
        "i=10\n",
        "while i>0:\n",
        "  i=i-1"
      ],
      "metadata": {
        "id": "FBjPINH_Q2iy"
      },
      "execution_count": 37,
      "outputs": []
    },
    {
      "cell_type": "code",
      "source": [
        "i"
      ],
      "metadata": {
        "colab": {
          "base_uri": "https://localhost:8080/"
        },
        "id": "xZMamgZURAxB",
        "outputId": "4cc52af2-45b4-4b8d-affa-014b6da94676"
      },
      "execution_count": 38,
      "outputs": [
        {
          "output_type": "execute_result",
          "data": {
            "text/plain": [
              "0"
            ]
          },
          "metadata": {},
          "execution_count": 38
        }
      ]
    },
    {
      "cell_type": "code",
      "source": [
        "# 5using nested loop print 2 different pattern"
      ],
      "metadata": {
        "id": "pCBq4jc1RcBm"
      },
      "execution_count": 39,
      "outputs": []
    },
    {
      "cell_type": "code",
      "source": [
        "rows=6\n",
        "for i in range(rows):\n",
        "  for j in range(i):\n",
        "    print(i, end=' ')\n",
        "  print(' ')"
      ],
      "metadata": {
        "colab": {
          "base_uri": "https://localhost:8080/"
        },
        "id": "JOGmVBJYfp2Z",
        "outputId": "4aeee8f3-fb5e-4aca-d252-cf4b8dd69dc0"
      },
      "execution_count": 40,
      "outputs": [
        {
          "output_type": "stream",
          "name": "stdout",
          "text": [
            " \n",
            "1  \n",
            "2 2  \n",
            "3 3 3  \n",
            "4 4 4 4  \n",
            "5 5 5 5 5  \n"
          ]
        }
      ]
    },
    {
      "cell_type": "code",
      "source": [
        "rows=5\n",
        "for i in range(1, rows+1):\n",
        "  for j in range(i, i +1 ):\n",
        "    print(j , end=' ')\n",
        "  print('')"
      ],
      "metadata": {
        "colab": {
          "base_uri": "https://localhost:8080/"
        },
        "id": "q_NxHY96f4RQ",
        "outputId": "f122ece0-b50d-4ceb-c722-6f0b34b5996f"
      },
      "execution_count": 42,
      "outputs": [
        {
          "output_type": "stream",
          "name": "stdout",
          "text": [
            "1 \n",
            "2 \n",
            "3 \n",
            "4 \n",
            "5 \n"
          ]
        }
      ]
    },
    {
      "cell_type": "code",
      "source": [
        "rows=5\n",
        "b=0\n",
        "for i in range(rows, 0,-1):\n",
        "  b+=1\n",
        "  for j in range(1,i+1):\n",
        "    print(b, end=' ')\n",
        "  print('\\r')"
      ],
      "metadata": {
        "colab": {
          "base_uri": "https://localhost:8080/"
        },
        "id": "GlfmzblMgI04",
        "outputId": "0d8a372c-3724-4322-b752-0ce96d2c336e"
      },
      "execution_count": 43,
      "outputs": [
        {
          "output_type": "stream",
          "name": "stdout",
          "text": [
            "1 1 1 1 1 \r\n",
            "2 2 2 2 \r\n",
            "3 3 3 \r\n",
            "4 4 \r\n",
            "5 \r\n"
          ]
        }
      ]
    },
    {
      "cell_type": "code",
      "source": [],
      "metadata": {
        "id": "FwyBkmaYgbip"
      },
      "execution_count": null,
      "outputs": []
    }
  ]
}