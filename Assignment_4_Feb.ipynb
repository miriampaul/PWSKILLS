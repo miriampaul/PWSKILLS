{
  "nbformat": 4,
  "nbformat_minor": 0,
  "metadata": {
    "colab": {
      "provenance": []
    },
    "kernelspec": {
      "name": "python3",
      "display_name": "Python 3"
    },
    "language_info": {
      "name": "python"
    }
  },
  "cells": [
    {
      "cell_type": "code",
      "execution_count": 1,
      "metadata": {
        "id": "3C4Kgc4f-p9r"
      },
      "outputs": [],
      "source": [
        "#1 \n",
        "s=[('Sachin Tendulkar', 34357), ('Ricky Ponting', 27483), ('Jack Kallis', 25534), ('Virat Kohli', 24936)]"
      ]
    },
    {
      "cell_type": "code",
      "source": [
        "lambda x: sort(x), s"
      ],
      "metadata": {
        "colab": {
          "base_uri": "https://localhost:8080/"
        },
        "id": "JCOhEmuF-yfT",
        "outputId": "2205f862-b15a-4347-c47f-1d9e28c227c8"
      },
      "execution_count": 4,
      "outputs": [
        {
          "output_type": "execute_result",
          "data": {
            "text/plain": [
              "(<function __main__.<lambda>(x)>,\n",
              " [('Sachin Tendulkar', 34357),\n",
              "  ('Ricky Ponting', 27483),\n",
              "  ('Jack Kallis', 25534),\n",
              "  ('Virat Kohli', 24936)])"
            ]
          },
          "metadata": {},
          "execution_count": 4
        }
      ]
    },
    {
      "cell_type": "code",
      "source": [
        "\n",
        "#3\n",
        "t=[1, 2, 3, 4, 5, 6, 7, 8, 9, 10]"
      ],
      "metadata": {
        "id": "VQWtrrgw-6Z3"
      },
      "execution_count": 7,
      "outputs": []
    },
    {
      "cell_type": "code",
      "source": [
        "list(map(lambda x : str(x),t))"
      ],
      "metadata": {
        "colab": {
          "base_uri": "https://localhost:8080/"
        },
        "id": "zK9LHJS8_JxB",
        "outputId": "358cf546-8f89-4ac7-d8c2-c5a52e88b120"
      },
      "execution_count": 9,
      "outputs": [
        {
          "output_type": "execute_result",
          "data": {
            "text/plain": [
              "['1', '2', '3', '4', '5', '6', '7', '8', '9', '10']"
            ]
          },
          "metadata": {},
          "execution_count": 9
        }
      ]
    },
    {
      "cell_type": "code",
      "source": [
        "#2 \n",
        "a=[1, 2, 3, 4, 5, 6, 7, 8, 9, 10]\n",
        "list(map(lambda x: x**2, a))"
      ],
      "metadata": {
        "colab": {
          "base_uri": "https://localhost:8080/"
        },
        "id": "dOkTyK07_VG2",
        "outputId": "8c60d2f9-636f-4e6d-f8db-a3deda602cad"
      },
      "execution_count": 10,
      "outputs": [
        {
          "output_type": "execute_result",
          "data": {
            "text/plain": [
              "[1, 4, 9, 16, 25, 36, 49, 64, 81, 100]"
            ]
          },
          "metadata": {},
          "execution_count": 10
        }
      ]
    },
    {
      "cell_type": "code",
      "source": [
        "#4 \n",
        "from functools import reduce"
      ],
      "metadata": {
        "id": "IUUiTpjr_jox"
      },
      "execution_count": 11,
      "outputs": []
    },
    {
      "cell_type": "code",
      "source": [
        "\n",
        "a=range(1,26)\n",
        "reduce(lambda x,y: x*y, a)"
      ],
      "metadata": {
        "colab": {
          "base_uri": "https://localhost:8080/"
        },
        "id": "4L5GEEQ1_q2N",
        "outputId": "fa11031c-33ee-46f0-e4d2-661df7decf84"
      },
      "execution_count": 18,
      "outputs": [
        {
          "output_type": "execute_result",
          "data": {
            "text/plain": [
              "15511210043330985984000000"
            ]
          },
          "metadata": {},
          "execution_count": 18
        }
      ]
    },
    {
      "cell_type": "code",
      "source": [
        "#5\n",
        "s=[2, 3, 6, 9, 27, 60, 90, 120, 55, 46]\n",
        "\n",
        "list(filter(lambda x: x%2==0 and x%3==0, s))"
      ],
      "metadata": {
        "colab": {
          "base_uri": "https://localhost:8080/"
        },
        "id": "cswj9rqC_59T",
        "outputId": "b33f7bdb-fae9-4754-f093-a986b3c5f49c"
      },
      "execution_count": 24,
      "outputs": [
        {
          "output_type": "execute_result",
          "data": {
            "text/plain": [
              "[6, 60, 90, 120]"
            ]
          },
          "metadata": {},
          "execution_count": 24
        }
      ]
    },
    {
      "cell_type": "code",
      "source": [
        "#PALINDROMES"
      ],
      "metadata": {
        "id": "6LFcYGwKAjnA"
      },
      "execution_count": 25,
      "outputs": []
    },
    {
      "cell_type": "code",
      "source": [],
      "metadata": {
        "id": "5DqioptZBHpm"
      },
      "execution_count": 29,
      "outputs": []
    },
    {
      "cell_type": "code",
      "source": [
        "p=['python', 'php', 'aba', 'radar', 'level']"
      ],
      "metadata": {
        "id": "sOWzEA7nBkv1"
      },
      "execution_count": 26,
      "outputs": []
    },
    {
      "cell_type": "code",
      "source": [
        "list(filter(lambda x: x==x[::-1],p))"
      ],
      "metadata": {
        "colab": {
          "base_uri": "https://localhost:8080/"
        },
        "id": "RSQd5o1RBmZK",
        "outputId": "11a3e293-4b25-4a3b-9b4b-024e61d7cb17"
      },
      "execution_count": 29,
      "outputs": [
        {
          "output_type": "execute_result",
          "data": {
            "text/plain": [
              "['php', 'aba', 'radar', 'level']"
            ]
          },
          "metadata": {},
          "execution_count": 29
        }
      ]
    },
    {
      "cell_type": "code",
      "source": [],
      "metadata": {
        "id": "J08hdBsDBrrJ"
      },
      "execution_count": 28,
      "outputs": []
    }
  ]
}