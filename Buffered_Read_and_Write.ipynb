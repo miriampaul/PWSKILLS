{
  "nbformat": 4,
  "nbformat_minor": 0,
  "metadata": {
    "colab": {
      "provenance": []
    },
    "kernelspec": {
      "name": "python3",
      "display_name": "Python 3"
    },
    "language_info": {
      "name": "python"
    }
  },
  "cells": [
    {
      "cell_type": "code",
      "execution_count": 1,
      "metadata": {
        "id": "cTfL_puvyk_t"
      },
      "outputs": [],
      "source": [
        "import io"
      ]
    },
    {
      "cell_type": "code",
      "source": [
        "with open('test.txt','wb') as f:\n",
        "  file=io.BufferedWriter(f)\n",
        "  file.write(b\"this is my bufferwrte\\n\")\n",
        "  file.write(b\"this is my second line that I am trying to write\")\n",
        "  file.flush()"
      ],
      "metadata": {
        "id": "MtPy6yNhzVzF"
      },
      "execution_count": 5,
      "outputs": []
    },
    {
      "cell_type": "code",
      "source": [
        "with open('test.txt','rb') as f:\n",
        "  file=io.BufferedReader(f)\n",
        "  data=file.read(1000)\n",
        "  print(data)"
      ],
      "metadata": {
        "colab": {
          "base_uri": "https://localhost:8080/"
        },
        "id": "nIRKlLO8ziJo",
        "outputId": "51e1b79f-2679-4e42-a449-a7638ce7af59"
      },
      "execution_count": 8,
      "outputs": [
        {
          "output_type": "stream",
          "name": "stdout",
          "text": [
            "b'this is my bufferwrte\\nthis is my second line that I am trying to write'\n"
          ]
        }
      ]
    },
    {
      "cell_type": "code",
      "source": [
        "# IT IS USED IN CASE WE NEED TO WRTIE DATA IN SMALL SMALLL CHUNKS"
      ],
      "metadata": {
        "id": "3kzWlxPNz1CU"
      },
      "execution_count": 9,
      "outputs": []
    },
    {
      "cell_type": "code",
      "source": [],
      "metadata": {
        "id": "NVX0oLpD2Spd"
      },
      "execution_count": null,
      "outputs": []
    }
  ]
}